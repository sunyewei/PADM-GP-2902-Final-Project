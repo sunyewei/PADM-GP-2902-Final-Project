{
 "cells": [
  {
   "cell_type": "markdown",
   "metadata": {},
   "source": [
    "# Real-Time Do File For Regression Final\n"
   ]
  },
  {
   "cell_type": "markdown",
   "metadata": {},
   "source": [
    "## Dependent and Independent Variable List\n",
    "### Dependent Variable List\n",
    "pop_grwth\n",
    "### Independent Variable List\n",
    "frtl_rte lifeexp cvl_lib_ind co2_em srf_area gdpcap"
   ]
  },
  {
   "cell_type": "code",
   "execution_count": 1,
   "metadata": {},
   "outputs": [
    {
     "name": "stdout",
     "output_type": "stream",
     "text": [
      "\n",
      "  ___  ____  ____  ____  ____ ®\n",
      " /__    /   ____/   /   ____/      17.0\n",
      "___/   /   /___/   /   /___/       MP—Parallel Edition\n",
      "\n",
      " Statistics and Data Science       Copyright 1985-2021 StataCorp LLC\n",
      "                                   StataCorp\n",
      "                                   4905 Lakeway Drive\n",
      "                                   College Station, Texas 77845 USA\n",
      "                                   800-STATA-PC        https://www.stata.com\n",
      "                                   979-696-4600        stata@stata.com\n",
      "\n",
      "Stata license: Single-user 8-core , expiring  1 Jan 2025\n",
      "Serial number: 501709301094\n",
      "  Licensed to: Yewei Sun\n",
      "               New York University\n",
      "\n",
      "Notes:\n",
      "      1. Unicode is supported; see help unicode_advice.\n",
      "      2. More than 2 billion observations are allowed; see help obs_advice.\n",
      "      3. Maximum number of variables is set to 5,000; see help set_maxvar.\n"
     ]
    }
   ],
   "source": [
    "import stata_setup\n",
    "stata_setup.config(\"D:/STATA17\", \"mp\")"
   ]
  },
  {
   "cell_type": "markdown",
   "metadata": {},
   "source": [
    "## 2022.03.24 Data Cleaning"
   ]
  },
  {
   "cell_type": "code",
   "execution_count": 2,
   "metadata": {},
   "outputs": [
    {
     "name": "stdout",
     "output_type": "stream",
     "text": [
      "\n",
      ". clear all\n",
      "\n",
      ". global datadir \"E:\\NYU Master\\Semester 2\\PADM-GP 2902 Regression and intro to\n",
      ">  economtrics\\Final Project\"\n",
      "\n",
      ". global logdir \"E:\\NYU Master\\Semester 2\\PADM-GP 2902 Regression and intro to \n",
      "> economtrics\\Final Project\"\n",
      "\n",
      ". cd \"$datadir\" \n",
      "E:\\NYU Master\\Semester 2\\PADM-GP 2902 Regression and intro to economtrics\\Final\n",
      ">  Project\n",
      "\n",
      ". use \"$datadir\\country dataset with 2010 version 13 _3_.dta\"\n",
      "\n",
      ". \n"
     ]
    }
   ],
   "source": [
    "%%stata\n",
    "clear all\n",
    "global datadir \"E:\\NYU Master\\Semester 2\\PADM-GP 2902 Regression and intro to economtrics\\Final Project\"\n",
    "global logdir \"E:\\NYU Master\\Semester 2\\PADM-GP 2902 Regression and intro to economtrics\\Final Project\"\n",
    "cd \"$datadir\" \n",
    "use \"$datadir\\country dataset with 2010 version 13 _3_.dta\""
   ]
  },
  {
   "cell_type": "code",
   "execution_count": 3,
   "metadata": {},
   "outputs": [
    {
     "name": "stdout",
     "output_type": "stream",
     "text": [
      "\n",
      ". codebook frtl_rte lifeexp\n",
      "\n",
      "-------------------------------------------------------------------------------\n",
      "frtl_rte                               Fertility rate, total (births per woman)\n",
      "-------------------------------------------------------------------------------\n",
      "\n",
      "                  Type: Numeric (float)\n",
      "\n",
      "                 Range: [.939,8.667]                  Units: .0001\n",
      "         Unique values: 461                       Missing .: 13/531\n",
      "\n",
      "                  Mean: 3.36512\n",
      "             Std. dev.:  1.7383\n",
      "\n",
      "           Percentiles:     10%       25%       50%       75%       90%\n",
      "                            1.5     1.902     2.813      4.72     6.071\n",
      "\n",
      "-------------------------------------------------------------------------------\n",
      "lifeexp                                                         Life expectancy\n",
      "-------------------------------------------------------------------------------\n",
      "\n",
      "                  Type: Numeric (float)\n",
      "\n",
      "                 Range: [32.611561,82.97805]          Units: 1.000e-06\n",
      "         Unique values: 517                       Missing .: 12/531\n",
      "\n",
      "                  Mean: 67.1537\n",
      "             Std. dev.: 10.1299\n",
      "\n",
      "           Percentiles:     10%       25%       50%       75%       90%\n",
      "                        50.6542   60.6043   70.0767   74.7413    78.146\n",
      "\n",
      ". // Overview of the Variables\n",
      ". \n"
     ]
    }
   ],
   "source": [
    "%%stata\n",
    "codebook frtl_rte lifeexp\n",
    "// Overview of the Variables"
   ]
  },
  {
   "cell_type": "code",
   "execution_count": 4,
   "metadata": {},
   "outputs": [
    {
     "name": "stdout",
     "output_type": "stream",
     "text": [
      "\n",
      ". sum frtl_rte\n",
      "\n",
      "    Variable |        Obs        Mean    Std. dev.       Min        Max\n",
      "-------------+---------------------------------------------------------\n",
      "    frtl_rte |        518    3.365119    1.738296       .939      8.667\n",
      "\n",
      ". return list\n",
      "\n",
      "scalars:\n",
      "                  r(N) =  518\n",
      "              r(sum_w) =  518\n",
      "               r(mean) =  3.36511892080307\n",
      "                r(Var) =  3.021673295391625\n",
      "                 r(sd) =  1.738296089678518\n",
      "                r(min) =  .9390000104904175\n",
      "                r(max) =  8.666999816894531\n",
      "                r(sum) =  1743.13160097599\n",
      "\n",
      ". replace frtl_rte = r(mean) if frtl_rte==.\n",
      "(13 real changes made)\n",
      "\n",
      ". \n"
     ]
    }
   ],
   "source": [
    "%%stata\n",
    "sum frtl_rte\n",
    "return list\n",
    "replace frtl_rte = r(mean) if frtl_rte==."
   ]
  },
  {
   "cell_type": "code",
   "execution_count": 5,
   "metadata": {},
   "outputs": [
    {
     "name": "stdout",
     "output_type": "stream",
     "text": [
      "\n",
      ". sum lifeexp\n",
      "\n",
      "    Variable |        Obs        Mean    Std. dev.       Min        Max\n",
      "-------------+---------------------------------------------------------\n",
      "     lifeexp |        519    67.15366    10.12991   32.61156   82.97805\n",
      "\n",
      ". return list\n",
      "\n",
      "scalars:\n",
      "                  r(N) =  519\n",
      "              r(sum_w) =  519\n",
      "               r(mean) =  67.15365899734644\n",
      "                r(Var) =  102.6149784431765\n",
      "                 r(sd) =  10.12990515469797\n",
      "                r(min) =  32.6115608215332\n",
      "                r(max) =  82.97805023193359\n",
      "                r(sum) =  34852.7490196228\n",
      "\n",
      ". replace lifeexp = r(mean) if lifeexp==.\n",
      "(12 real changes made)\n",
      "\n",
      ". \n"
     ]
    }
   ],
   "source": [
    "%%stata\n",
    "sum lifeexp\n",
    "return list\n",
    "replace lifeexp = r(mean) if lifeexp==."
   ]
  },
  {
   "cell_type": "markdown",
   "metadata": {},
   "source": [
    "## 2022.03.31 Merge the Data Cleaning of the Group"
   ]
  },
  {
   "cell_type": "code",
   "execution_count": 6,
   "metadata": {},
   "outputs": [
    {
     "name": "stdout",
     "output_type": "stream",
     "text": [
      "\n",
      ". sum gdpcap\n",
      "\n",
      "    Variable |        Obs        Mean    Std. dev.       Min        Max\n",
      "-------------+---------------------------------------------------------\n",
      "      gdpcap |        521    8722.309    13895.74   98.03187   102863.1\n",
      "\n",
      ". return list\n",
      "\n",
      "scalars:\n",
      "                  r(N) =  521\n",
      "              r(sum_w) =  521\n",
      "               r(mean) =  8722.309087229782\n",
      "                r(Var) =  193091685.6177301\n",
      "                 r(sd) =  13895.74343522973\n",
      "                r(min) =  98.03186798095703\n",
      "                r(max) =  102863.09375\n",
      "                r(sum) =  4544323.034446716\n",
      "\n",
      ". replace gdpcap = r(mean) if gdpcap ==.\n",
      "(10 real changes made)\n",
      "\n",
      ". \n"
     ]
    }
   ],
   "source": [
    "%%stata\n",
    "sum gdpcap\n",
    "return list\n",
    "replace gdpcap = r(mean) if gdpcap ==."
   ]
  },
  {
   "cell_type": "code",
   "execution_count": 7,
   "metadata": {},
   "outputs": [
    {
     "name": "stdout",
     "output_type": "stream",
     "text": [
      "\n",
      ". sum co2_em\n",
      "\n",
      "    Variable |        Obs        Mean    Std. dev.       Min        Max\n",
      "-------------+---------------------------------------------------------\n",
      "      co2_em |        505    4.605212    6.485877   .0181349   58.52217\n",
      "\n",
      ". return list\n",
      "\n",
      "scalars:\n",
      "                  r(N) =  505\n",
      "              r(sum_w) =  505\n",
      "               r(mean) =  4.605212292503012\n",
      "                r(Var) =  42.06659817517209\n",
      "                 r(sd) =  6.485876823928441\n",
      "                r(min) =  .0181349068880081\n",
      "                r(max) =  58.52217102050781\n",
      "                r(sum) =  2325.632207714021\n",
      "\n",
      ". replace co2_em = r(mean) if co2_em ==.\n",
      "(26 real changes made)\n",
      "\n",
      ". \n"
     ]
    }
   ],
   "source": [
    "%%stata\n",
    "sum co2_em\n",
    "return list\n",
    "replace co2_em = r(mean) if co2_em ==."
   ]
  },
  {
   "cell_type": "code",
   "execution_count": 8,
   "metadata": {},
   "outputs": [
    {
     "name": "stdout",
     "output_type": "stream",
     "text": [
      "\n",
      ". sum cvl_lib_ind\n",
      "\n",
      "    Variable |        Obs        Mean    Std. dev.       Min        Max\n",
      "-------------+---------------------------------------------------------\n",
      " cvl_lib_ind |        479     3.43215    1.788822          1          7\n",
      "\n",
      ". replace cvl_lib_ind = 3 if cvl_lib_ind ==.\n",
      "(52 real changes made)\n",
      "\n",
      ". \n"
     ]
    }
   ],
   "source": [
    "%%stata\n",
    "sum cvl_lib_ind\n",
    "replace cvl_lib_ind = 3 if cvl_lib_ind ==."
   ]
  },
  {
   "cell_type": "code",
   "execution_count": 9,
   "metadata": {},
   "outputs": [
    {
     "name": "stdout",
     "output_type": "stream",
     "text": [
      "\n",
      ". sum srf_area\n",
      "\n",
      "    Variable |        Obs        Mean    Std. dev.       Min        Max\n",
      "-------------+---------------------------------------------------------\n",
      "    srf_area |        526    744788.8     2007951         20   1.71e+07\n",
      "\n",
      ". return list\n",
      "\n",
      "scalars:\n",
      "                  r(N) =  526\n",
      "              r(sum_w) =  526\n",
      "               r(mean) =  744788.8435361232\n",
      "                r(Var) =  4031866421606.429\n",
      "                 r(sd) =  2007950.801590126\n",
      "                r(min) =  20\n",
      "                r(max) =  17098240\n",
      "                r(sum) =  391758931.7000008\n",
      "\n",
      ". replace srf_area = r(mean) if srf_area ==.\n",
      "(5 real changes made)\n",
      "\n",
      ". \n"
     ]
    }
   ],
   "source": [
    "%%stata\n",
    "sum srf_area\n",
    "return list\n",
    "replace srf_area = r(mean) if srf_area ==."
   ]
  },
  {
   "cell_type": "markdown",
   "metadata": {},
   "source": [
    "## 2022.3.31 Functional Form"
   ]
  },
  {
   "cell_type": "code",
   "execution_count": 10,
   "metadata": {},
   "outputs": [
    {
     "name": "stdout",
     "output_type": "stream",
     "text": [
      "\n",
      ". clear all\n",
      "\n",
      ". use \"$datadir\\20220331-DataCleaningALL.dta\"\n",
      "\n",
      ". \n"
     ]
    }
   ],
   "source": [
    "%%stata\n",
    "clear all\n",
    "use \"$datadir\\20220331-DataCleaningALL.dta\""
   ]
  },
  {
   "cell_type": "markdown",
   "metadata": {},
   "source": [
    "### Step 1 Test For Multicollinearity "
   ]
  },
  {
   "cell_type": "code",
   "execution_count": 11,
   "metadata": {},
   "outputs": [
    {
     "name": "stdout",
     "output_type": "stream",
     "text": [
      "\n",
      ". reg pop_grwth frtl_rte lifeexp cvl_lib_ind co2_em srf_area gdpcap\n",
      "\n",
      "      Source |       SS           df       MS      Number of obs   =       531\n",
      "-------------+----------------------------------   F(6, 524)       =    101.22\n",
      "       Model |  526.315082         6  87.7191804   Prob > F        =    0.0000\n",
      "    Residual |  454.090704       524  .866585313   R-squared       =    0.5368\n",
      "-------------+----------------------------------   Adj R-squared   =    0.5315\n",
      "       Total |  980.405786       530  1.84982224   Root MSE        =    .93091\n",
      "\n",
      "------------------------------------------------------------------------------\n",
      "   pop_grwth | Coefficient  Std. err.      t    P>|t|     [95% conf. interval]\n",
      "-------------+----------------------------------------------------------------\n",
      "    frtl_rte |   .6929438    .045506    15.23   0.000     .6035471    .7823404\n",
      "     lifeexp |   .0321699   .0082955     3.88   0.000     .0158735    .0484664\n",
      " cvl_lib_ind |   .1454151   .0295861     4.91   0.000     .0872933     .203537\n",
      "      co2_em |   .0653188   .0082901     7.88   0.000     .0490328    .0816047\n",
      "    srf_area |  -1.82e-08   2.06e-08    -0.88   0.378    -5.86e-08    2.23e-08\n",
      "      gdpcap |   4.49e-06   4.08e-06     1.10   0.272    -3.53e-06    .0000125\n",
      "       _cons |  -3.714281   .6836693    -5.43   0.000    -5.057351   -2.371212\n",
      "------------------------------------------------------------------------------\n",
      "\n",
      ". reg pop_grwth frtl_rte lifeexp cvl_lib_ind co2_em srf_area gdpcap i.year\n",
      "\n",
      "      Source |       SS           df       MS      Number of obs   =       531\n",
      "-------------+----------------------------------   F(8, 522)       =     78.25\n",
      "       Model |  534.626405         8  66.8283007   Prob > F        =    0.0000\n",
      "    Residual |  445.779381       522  .853983488   R-squared       =    0.5453\n",
      "-------------+----------------------------------   Adj R-squared   =    0.5383\n",
      "       Total |  980.405786       530  1.84982224   Root MSE        =    .92411\n",
      "\n",
      "------------------------------------------------------------------------------\n",
      "   pop_grwth | Coefficient  Std. err.      t    P>|t|     [95% conf. interval]\n",
      "-------------+----------------------------------------------------------------\n",
      "    frtl_rte |   .7189844   .0465231    15.45   0.000     .6275889    .8103798\n",
      "     lifeexp |   .0337295    .008301     4.06   0.000      .017422    .0500369\n",
      " cvl_lib_ind |   .1373878   .0294987     4.66   0.000     .0794371    .1953385\n",
      "      co2_em |   .0695531    .008346     8.33   0.000     .0531572     .085949\n",
      "    srf_area |  -1.68e-08   2.05e-08    -0.82   0.412    -5.70e-08    2.34e-08\n",
      "      gdpcap |   1.48e-06   4.17e-06     0.35   0.724    -6.72e-06    9.67e-06\n",
      "             |\n",
      "        year |\n",
      "       2000  |   .1354599   .1010005     1.34   0.180    -.0629575    .3338772\n",
      "       2010  |   .3242562   .1044553     3.10   0.002     .1190517    .5294607\n",
      "             |\n",
      "       _cons |  -4.026867   .6961098    -5.78   0.000    -5.394388   -2.659346\n",
      "------------------------------------------------------------------------------\n",
      "\n",
      ". // The p value for srf_area gdpcap is not statistically significant, So we ma\n",
      "> y have omitted variable bias (after adding year dummies, the results do not c\n",
      "> hange much).\n",
      ". estat vif\n",
      "\n",
      "    Variable |       VIF       1/VIF  \n",
      "-------------+----------------------\n",
      "    frtl_rte |      3.96    0.252566\n",
      "     lifeexp |      4.29    0.233158\n",
      " cvl_lib_ind |      1.57    0.637973\n",
      "      co2_em |      1.73    0.578258\n",
      "    srf_area |      1.04    0.964644\n",
      "      gdpcap |      2.05    0.488494\n",
      "        year |\n",
      "       2000  |      1.41    0.709448\n",
      "       2010  |      1.51    0.663294\n",
      "-------------+----------------------\n",
      "    Mean VIF |      2.19\n",
      "\n",
      ". // The VIF for lifeexp is alerting, but I recommend to leave it to be\n",
      ". \n"
     ]
    }
   ],
   "source": [
    "%%stata\n",
    "reg pop_grwth frtl_rte lifeexp cvl_lib_ind co2_em srf_area gdpcap\n",
    "reg pop_grwth frtl_rte lifeexp cvl_lib_ind co2_em srf_area gdpcap i.year\n",
    "// The p value for srf_area gdpcap is not statistically significant, So we may have omitted variable bias (after adding year dummies, the results do not change much).\n",
    "estat vif\n",
    "// The VIF for lifeexp is alerting, but I recommend to leave it to be"
   ]
  },
  {
   "cell_type": "markdown",
   "metadata": {},
   "source": [
    "### Step 3 Functional Form"
   ]
  },
  {
   "cell_type": "code",
   "execution_count": 12,
   "metadata": {},
   "outputs": [
    {
     "name": "stdout",
     "output_type": "stream",
     "text": [
      "\n",
      ". foreach var of varlist srf_area gdpcap co2_em{\n",
      "  2.     gen lg_`var' = log(`var')\n",
      "  3. }\n",
      "\n",
      ". reg pop_grwth frtl_rte lifeexp cvl_lib_ind lg_co2_em lg_srf_area lg_gdpcap i.\n",
      "> year\n",
      "\n",
      "      Source |       SS           df       MS      Number of obs   =       531\n",
      "-------------+----------------------------------   F(8, 522)       =     63.14\n",
      "       Model |  482.145548         8  60.2681935   Prob > F        =    0.0000\n",
      "    Residual |  498.260238       522  .954521529   R-squared       =    0.4918\n",
      "-------------+----------------------------------   Adj R-squared   =    0.4840\n",
      "       Total |  980.405786       530  1.84982224   Root MSE        =      .977\n",
      "\n",
      "------------------------------------------------------------------------------\n",
      "   pop_grwth | Coefficient  Std. err.      t    P>|t|     [95% conf. interval]\n",
      "-------------+----------------------------------------------------------------\n",
      "    frtl_rte |   .7723543   .0531302    14.54   0.000      .667979    .8767295\n",
      "     lifeexp |   .0337365   .0093025     3.63   0.000     .0154616    .0520114\n",
      " cvl_lib_ind |   .1854709    .031951     5.80   0.000     .1227026    .2482393\n",
      "   lg_co2_em |    .125726   .0572238     2.20   0.028     .0133088    .2381433\n",
      " lg_srf_area |   .0123695   .0170892     0.72   0.469    -.0212025    .0459415\n",
      "   lg_gdpcap |   .1451013   .0596971     2.43   0.015     .0278252    .2623773\n",
      "             |\n",
      "        year |\n",
      "       2000  |   .1776675   .1077723     1.65   0.100    -.0340532    .3893883\n",
      "       2010  |   .2910923   .1170177     2.49   0.013     .0612088    .5209758\n",
      "             |\n",
      "       _cons |  -5.417594   .8126917    -6.67   0.000    -7.014142   -3.821046\n",
      "------------------------------------------------------------------------------\n",
      "\n",
      ". // The p values for srf_area gdpcap are still not statistically significant\n",
      ". \n",
      ". gen lg_int_gdp_srf = lg_srf_area * lg_gdpcap\n",
      "\n",
      ". reg pop_grwth frtl_rte lifeexp cvl_lib_ind lg_co2_em lg_srf_area lg_gdpcap lg\n",
      "> _int_gdp_srf i.year\n",
      "\n",
      "      Source |       SS           df       MS      Number of obs   =       531\n",
      "-------------+----------------------------------   F(9, 521)       =     57.97\n",
      "       Model |  490.551178         9  54.5056865   Prob > F        =    0.0000\n",
      "    Residual |  489.854608       521  .940219977   R-squared       =    0.5004\n",
      "-------------+----------------------------------   Adj R-squared   =    0.4917\n",
      "       Total |  980.405786       530  1.84982224   Root MSE        =    .96965\n",
      "\n",
      "------------------------------------------------------------------------------\n",
      "   pop_grwth | Coefficient  Std. err.      t    P>|t|     [95% conf. interval]\n",
      "-------------+----------------------------------------------------------------\n",
      "    frtl_rte |   .7794259   .0527837    14.77   0.000     .6757309    .8831208\n",
      "     lifeexp |   .0360116   .0092638     3.89   0.000     .0178126    .0542107\n",
      " cvl_lib_ind |   .1659931   .0323729     5.13   0.000     .1023955    .2295906\n",
      "   lg_co2_em |   .1361201   .0568998     2.39   0.017     .0243389    .2479013\n",
      " lg_srf_area |   .3109828   .1013008     3.07   0.002     .1119746     .509991\n",
      "   lg_gdpcap |    .528938   .1413866     3.74   0.000     .2511802    .8066958\n",
      "lg_int_gdp~f |  -.0349256   .0116808    -2.99   0.003    -.0578729   -.0119783\n",
      "             |\n",
      "        year |\n",
      "       2000  |   .1656431   .1070375     1.55   0.122    -.0446349    .3759212\n",
      "       2010  |   .2915345   .1161378     2.51   0.012     .0633785    .5196905\n",
      "             |\n",
      "       _cons |  -8.852193   1.403595    -6.31   0.000    -11.60959   -6.094792\n",
      "------------------------------------------------------------------------------\n",
      "\n",
      ". estat imtest, white\n",
      "\n",
      "White's test\n",
      "H0: Homoskedasticity\n",
      "Ha: Unrestricted heteroskedasticity\n",
      "\n",
      "   chi2(50) = 149.08\n",
      "Prob > chi2 = 0.0000\n",
      "\n",
      "Cameron & Trivedi's decomposition of IM-test\n",
      "\n",
      "--------------------------------------------------\n",
      "              Source |       chi2     df         p\n",
      "---------------------+----------------------------\n",
      "  Heteroskedasticity |     149.08     50    0.0000\n",
      "            Skewness |      28.28      9    0.0009\n",
      "            Kurtosis |       2.41      1    0.1208\n",
      "---------------------+----------------------------\n",
      "               Total |     179.76     60    0.0000\n",
      "--------------------------------------------------\n",
      "\n",
      ". // The final(maybe) functional form for simple regression\n",
      ". \n"
     ]
    }
   ],
   "source": [
    "%%stata\n",
    "foreach var of varlist srf_area gdpcap co2_em{\n",
    "    gen lg_`var' = log(`var')\n",
    "}\n",
    "reg pop_grwth frtl_rte lifeexp cvl_lib_ind lg_co2_em lg_srf_area lg_gdpcap i.year\n",
    "// The p values for srf_area gdpcap are still not statistically significant\n",
    "\n",
    "gen lg_int_gdp_srf = lg_srf_area * lg_gdpcap\n",
    "reg pop_grwth frtl_rte lifeexp cvl_lib_ind lg_co2_em lg_srf_area lg_gdpcap lg_int_gdp_srf i.year\n",
    "estat imtest, white\n",
    "// The final(maybe) functional form for simple regression"
   ]
  },
  {
   "cell_type": "markdown",
   "metadata": {},
   "source": [
    "## Step 4 Fixed Effect"
   ]
  },
  {
   "cell_type": "code",
   "execution_count": 13,
   "metadata": {},
   "outputs": [
    {
     "name": "stdout",
     "output_type": "stream",
     "text": [
      "\n",
      ". egen cnnum = group( cn ) \n",
      "\n",
      ". // Destring the country identifier\n",
      ". \n"
     ]
    }
   ],
   "source": [
    "%%stata\n",
    "egen cnnum = group( cn ) \n",
    "// Destring the country identifier"
   ]
  },
  {
   "cell_type": "code",
   "execution_count": 14,
   "metadata": {},
   "outputs": [
    {
     "name": "stdout",
     "output_type": "stream",
     "text": [
      "\n",
      ". xtset cnnum year\n",
      "\n",
      "Panel variable: cnnum (strongly balanced)\n",
      " Time variable: year, 1990 to 2010, but with gaps\n",
      "         Delta: 1 unit\n",
      "\n",
      ". xtreg pop_grwth frtl_rte lifeexp cvl_lib_ind lg_co2_em srf_area gdpcap i.year\n",
      "> , fe i(cnnum)\n",
      "\n",
      "Fixed-effects (within) regression               Number of obs     =        531\n",
      "Group variable: cnnum                           Number of groups  =        177\n",
      "\n",
      "R-squared:                                      Obs per group:\n",
      "     Within  = 0.1529                                         min =          3\n",
      "     Between = 0.0087                                         avg =        3.0\n",
      "     Overall = 0.0044                                         max =          3\n",
      "\n",
      "                                                F(8,346)          =       7.80\n",
      "corr(u_i, Xb) = -0.9468                         Prob > F          =     0.0000\n",
      "\n",
      "------------------------------------------------------------------------------\n",
      "   pop_grwth | Coefficient  Std. err.      t    P>|t|     [95% conf. interval]\n",
      "-------------+----------------------------------------------------------------\n",
      "    frtl_rte |   .2456212   .0903581     2.72   0.007     .0679011    .4233414\n",
      "     lifeexp |   .0546354   .0168497     3.24   0.001     .0214947    .0877762\n",
      " cvl_lib_ind |  -.1139892   .0539101    -2.11   0.035    -.2200219   -.0079566\n",
      "   lg_co2_em |  -.0272926   .0993331    -0.27   0.784    -.2226654    .1680801\n",
      "    srf_area |   1.72e-06   5.78e-07     2.97   0.003     5.79e-07    2.85e-06\n",
      "      gdpcap |   .0000231   6.67e-06     3.47   0.001       .00001    .0000362\n",
      "             |\n",
      "        year |\n",
      "       2000  |  -.2271092   .1074942    -2.11   0.035    -.4385336   -.0156849\n",
      "       2010  |  -.4704867   .1581609    -2.97   0.003    -.7815644    -.159409\n",
      "             |\n",
      "       _cons |  -3.743975   1.316936    -2.84   0.005    -6.334182   -1.153767\n",
      "-------------+----------------------------------------------------------------\n",
      "     sigma_u |  3.7679454\n",
      "     sigma_e |  .76016387\n",
      "         rho |  .96089077   (fraction of variance due to u_i)\n",
      "------------------------------------------------------------------------------\n",
      "F test that all u_i=0: F(176, 346) = 2.89                    Prob > F = 0.0000\n",
      "\n",
      ". // Fixed effect for simple regression, srf_area and gdpcap are not significan\n",
      "> t\n",
      ". \n"
     ]
    }
   ],
   "source": [
    "%%stata\n",
    "xtset cnnum year\n",
    "xtreg pop_grwth frtl_rte lifeexp cvl_lib_ind lg_co2_em srf_area gdpcap i.year, fe i(cnnum)\n",
    "// Fixed effect for simple regression, srf_area and gdpcap are not significant"
   ]
  },
  {
   "cell_type": "code",
   "execution_count": 15,
   "metadata": {},
   "outputs": [
    {
     "name": "stdout",
     "output_type": "stream",
     "text": [
      "\n",
      "Fixed-effects (within) regression               Number of obs     =        531\n",
      "Group variable: cnnum                           Number of groups  =        177\n",
      "\n",
      "R-squared:                                      Obs per group:\n",
      "     Within  = 0.1477                                         min =          3\n",
      "     Between = 0.0619                                         avg =        3.0\n",
      "     Overall = 0.0743                                         max =          3\n",
      "\n",
      "                                                F(9,345)          =       6.64\n",
      "corr(u_i, Xb) = -0.2493                         Prob > F          =     0.0000\n",
      "\n",
      "------------------------------------------------------------------------------\n",
      "   pop_grwth | Coefficient  Std. err.      t    P>|t|     [95% conf. interval]\n",
      "-------------+----------------------------------------------------------------\n",
      "    frtl_rte |   .3386554    .087137     3.89   0.000     .1672688    .5100419\n",
      "     lifeexp |   .0558925   .0170158     3.28   0.001     .0224247    .0893602\n",
      " cvl_lib_ind |  -.1115075   .0542623    -2.05   0.041    -.2182341   -.0047808\n",
      "   lg_co2_em |  -.0394882   .1047793    -0.38   0.707    -.2455749    .1665985\n",
      " lg_srf_area |    .691968   .2026198     3.42   0.001     .2934425    1.090494\n",
      "   lg_gdpcap |   .6294964   .2799899     2.25   0.025     .0787944    1.180198\n",
      "lg_int_gdp~f |  -.0549936   .0223839    -2.46   0.015    -.0990198   -.0109675\n",
      "             |\n",
      "        year |\n",
      "       2000  |   -.140629   .1059493    -1.33   0.185    -.3490169     .067759\n",
      "       2010  |  -.1864516   .1700392    -1.10   0.274    -.5208955    .1479924\n",
      "             |\n",
      "       _cons |  -10.75687   2.697588    -3.99   0.000    -16.06265   -5.451077\n",
      "-------------+----------------------------------------------------------------\n",
      "     sigma_u |   1.194424\n",
      "     sigma_e |  .76357015\n",
      "         rho |  .70988562   (fraction of variance due to u_i)\n",
      "------------------------------------------------------------------------------\n",
      "F test that all u_i=0: F(176, 345) = 2.81                    Prob > F = 0.0000\n"
     ]
    }
   ],
   "source": [
    "%%stata\n",
    "xtreg pop_grwth frtl_rte lifeexp cvl_lib_ind lg_co2_em lg_srf_area lg_gdpcap lg_int_gdp_srf i.year, fe i(cnnum)"
   ]
  }
 ],
 "metadata": {
  "interpreter": {
   "hash": "07efdcd4b820c98a756949507a4d29d7862823915ec7477944641bea022f4f62"
  },
  "kernelspec": {
   "display_name": "Python 3.8.12 ('base')",
   "language": "python",
   "name": "python3"
  },
  "language_info": {
   "codemirror_mode": {
    "name": "ipython",
    "version": 3
   },
   "file_extension": ".py",
   "mimetype": "text/x-python",
   "name": "python",
   "nbconvert_exporter": "python",
   "pygments_lexer": "ipython3",
   "version": "3.8.12"
  },
  "orig_nbformat": 4
 },
 "nbformat": 4,
 "nbformat_minor": 2
}
