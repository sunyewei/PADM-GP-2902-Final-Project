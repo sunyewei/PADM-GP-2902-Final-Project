{
 "cells": [
  {
   "cell_type": "markdown",
   "metadata": {},
   "source": [
    "# Real-Time Do File For Regression Final\n"
   ]
  },
  {
   "cell_type": "markdown",
   "metadata": {},
   "source": [
    "## Dependent and Independent Variable List\n",
    "### Dependent Variable List\n",
    "pop_grwth\n",
    "### Independent Variable List\n",
    "frtl_rte lifeexp cvl_lib_ind co2_em srf_area gdpcap"
   ]
  },
  {
   "cell_type": "code",
   "execution_count": 26,
   "metadata": {},
   "outputs": [],
   "source": [
    "import stata_setup\n",
    "stata_setup.config(\"D:/STATA17\", \"mp\")"
   ]
  },
  {
   "cell_type": "markdown",
   "metadata": {},
   "source": [
    "## 2022.03.24 Data Cleaning"
   ]
  },
  {
   "cell_type": "code",
   "execution_count": 27,
   "metadata": {},
   "outputs": [
    {
     "name": "stdout",
     "output_type": "stream",
     "text": [
      "\n",
      ". clear all\n",
      "\n",
      ". global datadir \"E:\\NYU Master\\Semester 2\\PADM-GP 2902 Regression and intro to\n",
      ">  economtrics\\Final Project\"\n",
      "\n",
      ". global logdir \"E:\\NYU Master\\Semester 2\\PADM-GP 2902 Regression and intro to \n",
      "> economtrics\\Final Project\"\n",
      "\n",
      ". cd \"$datadir\" \n",
      "E:\\NYU Master\\Semester 2\\PADM-GP 2902 Regression and intro to economtrics\\Final\n",
      ">  Project\n",
      "\n",
      ". use \"$datadir\\country dataset with 2010 version 13 _3_.dta\"\n",
      "\n",
      ". \n"
     ]
    }
   ],
   "source": [
    "%%stata\n",
    "clear all\n",
    "global datadir \"E:\\NYU Master\\Semester 2\\PADM-GP 2902 Regression and intro to economtrics\\Final Project\"\n",
    "global logdir \"E:\\NYU Master\\Semester 2\\PADM-GP 2902 Regression and intro to economtrics\\Final Project\"\n",
    "cd \"$datadir\" \n",
    "use \"$datadir\\country dataset with 2010 version 13 _3_.dta\""
   ]
  },
  {
   "cell_type": "code",
   "execution_count": 28,
   "metadata": {},
   "outputs": [
    {
     "name": "stdout",
     "output_type": "stream",
     "text": [
      "\n",
      ". codebook frtl_rte lifeexp\n",
      "\n",
      "-------------------------------------------------------------------------------\n",
      "frtl_rte                               Fertility rate, total (births per woman)\n",
      "-------------------------------------------------------------------------------\n",
      "\n",
      "                  Type: Numeric (float)\n",
      "\n",
      "                 Range: [.939,8.667]                  Units: .0001\n",
      "         Unique values: 461                       Missing .: 13/531\n",
      "\n",
      "                  Mean: 3.36512\n",
      "             Std. dev.:  1.7383\n",
      "\n",
      "           Percentiles:     10%       25%       50%       75%       90%\n",
      "                            1.5     1.902     2.813      4.72     6.071\n",
      "\n",
      "-------------------------------------------------------------------------------\n",
      "lifeexp                                                         Life expectancy\n",
      "-------------------------------------------------------------------------------\n",
      "\n",
      "                  Type: Numeric (float)\n",
      "\n",
      "                 Range: [32.611561,82.97805]          Units: 1.000e-06\n",
      "         Unique values: 517                       Missing .: 12/531\n",
      "\n",
      "                  Mean: 67.1537\n",
      "             Std. dev.: 10.1299\n",
      "\n",
      "           Percentiles:     10%       25%       50%       75%       90%\n",
      "                        50.6542   60.6043   70.0767   74.7413    78.146\n",
      "\n",
      ". // Overview of the Variables\n",
      ". \n"
     ]
    }
   ],
   "source": [
    "%%stata\n",
    "codebook frtl_rte lifeexp\n",
    "// Overview of the Variables"
   ]
  },
  {
   "cell_type": "code",
   "execution_count": 29,
   "metadata": {},
   "outputs": [
    {
     "name": "stdout",
     "output_type": "stream",
     "text": [
      "\n",
      ". sum frtl_rte\n",
      "\n",
      "    Variable |        Obs        Mean    Std. dev.       Min        Max\n",
      "-------------+---------------------------------------------------------\n",
      "    frtl_rte |        518    3.365119    1.738296       .939      8.667\n",
      "\n",
      ". return list\n",
      "\n",
      "scalars:\n",
      "                  r(N) =  518\n",
      "              r(sum_w) =  518\n",
      "               r(mean) =  3.36511892080307\n",
      "                r(Var) =  3.021673295391625\n",
      "                 r(sd) =  1.738296089678518\n",
      "                r(min) =  .9390000104904175\n",
      "                r(max) =  8.666999816894531\n",
      "                r(sum) =  1743.13160097599\n",
      "\n",
      ". replace frtl_rte = r(mean) if frtl_rte==.\n",
      "(13 real changes made)\n",
      "\n",
      ". \n"
     ]
    }
   ],
   "source": [
    "%%stata\n",
    "sum frtl_rte\n",
    "return list\n",
    "replace frtl_rte = r(mean) if frtl_rte==."
   ]
  },
  {
   "cell_type": "code",
   "execution_count": 30,
   "metadata": {},
   "outputs": [
    {
     "name": "stdout",
     "output_type": "stream",
     "text": [
      "\n",
      ". sum lifeexp\n",
      "\n",
      "    Variable |        Obs        Mean    Std. dev.       Min        Max\n",
      "-------------+---------------------------------------------------------\n",
      "     lifeexp |        519    67.15366    10.12991   32.61156   82.97805\n",
      "\n",
      ". return list\n",
      "\n",
      "scalars:\n",
      "                  r(N) =  519\n",
      "              r(sum_w) =  519\n",
      "               r(mean) =  67.15365899734644\n",
      "                r(Var) =  102.6149784431765\n",
      "                 r(sd) =  10.12990515469797\n",
      "                r(min) =  32.6115608215332\n",
      "                r(max) =  82.97805023193359\n",
      "                r(sum) =  34852.7490196228\n",
      "\n",
      ". replace lifeexp = r(mean) if lifeexp==.\n",
      "(12 real changes made)\n",
      "\n",
      ". \n"
     ]
    }
   ],
   "source": [
    "%%stata\n",
    "sum lifeexp\n",
    "return list\n",
    "replace lifeexp = r(mean) if lifeexp==."
   ]
  },
  {
   "cell_type": "markdown",
   "metadata": {},
   "source": [
    "## 2022.03.31 Merge the Data Cleaning of the Group"
   ]
  },
  {
   "cell_type": "code",
   "execution_count": 31,
   "metadata": {},
   "outputs": [
    {
     "name": "stdout",
     "output_type": "stream",
     "text": [
      "\n",
      ". sum gdpcap\n",
      "\n",
      "    Variable |        Obs        Mean    Std. dev.       Min        Max\n",
      "-------------+---------------------------------------------------------\n",
      "      gdpcap |        521    8722.309    13895.74   98.03187   102863.1\n",
      "\n",
      ". return list\n",
      "\n",
      "scalars:\n",
      "                  r(N) =  521\n",
      "              r(sum_w) =  521\n",
      "               r(mean) =  8722.309087229782\n",
      "                r(Var) =  193091685.6177301\n",
      "                 r(sd) =  13895.74343522973\n",
      "                r(min) =  98.03186798095703\n",
      "                r(max) =  102863.09375\n",
      "                r(sum) =  4544323.034446716\n",
      "\n",
      ". replace gdpcap = r(mean) if gdpcap ==.\n",
      "(10 real changes made)\n",
      "\n",
      ". \n"
     ]
    }
   ],
   "source": [
    "%%stata\n",
    "sum gdpcap\n",
    "return list\n",
    "replace gdpcap = r(mean) if gdpcap ==."
   ]
  },
  {
   "cell_type": "code",
   "execution_count": 32,
   "metadata": {},
   "outputs": [
    {
     "name": "stdout",
     "output_type": "stream",
     "text": [
      "\n",
      ". sum co2_em\n",
      "\n",
      "    Variable |        Obs        Mean    Std. dev.       Min        Max\n",
      "-------------+---------------------------------------------------------\n",
      "      co2_em |        505    4.605212    6.485877   .0181349   58.52217\n",
      "\n",
      ". return list\n",
      "\n",
      "scalars:\n",
      "                  r(N) =  505\n",
      "              r(sum_w) =  505\n",
      "               r(mean) =  4.605212292503012\n",
      "                r(Var) =  42.06659817517209\n",
      "                 r(sd) =  6.485876823928441\n",
      "                r(min) =  .0181349068880081\n",
      "                r(max) =  58.52217102050781\n",
      "                r(sum) =  2325.632207714021\n",
      "\n",
      ". replace co2_em = r(mean) if co2_em ==.\n",
      "(26 real changes made)\n",
      "\n",
      ". \n"
     ]
    }
   ],
   "source": [
    "%%stata\n",
    "sum co2_em\n",
    "return list\n",
    "replace co2_em = r(mean) if co2_em ==."
   ]
  },
  {
   "cell_type": "code",
   "execution_count": 33,
   "metadata": {},
   "outputs": [
    {
     "name": "stdout",
     "output_type": "stream",
     "text": [
      "\n",
      ". sum cvl_lib_ind\n",
      "\n",
      "    Variable |        Obs        Mean    Std. dev.       Min        Max\n",
      "-------------+---------------------------------------------------------\n",
      " cvl_lib_ind |        479     3.43215    1.788822          1          7\n",
      "\n",
      ". replace cvl_lib_ind = 3 if cvl_lib_ind ==.\n",
      "(52 real changes made)\n",
      "\n",
      ". \n"
     ]
    }
   ],
   "source": [
    "%%stata\n",
    "sum cvl_lib_ind\n",
    "replace cvl_lib_ind = 3 if cvl_lib_ind ==."
   ]
  },
  {
   "cell_type": "code",
   "execution_count": 34,
   "metadata": {},
   "outputs": [
    {
     "name": "stdout",
     "output_type": "stream",
     "text": [
      "\n",
      ". sum srf_area\n",
      "\n",
      "    Variable |        Obs        Mean    Std. dev.       Min        Max\n",
      "-------------+---------------------------------------------------------\n",
      "    srf_area |        526    744788.8     2007951         20   1.71e+07\n",
      "\n",
      ". return list\n",
      "\n",
      "scalars:\n",
      "                  r(N) =  526\n",
      "              r(sum_w) =  526\n",
      "               r(mean) =  744788.8435361232\n",
      "                r(Var) =  4031866421606.429\n",
      "                 r(sd) =  2007950.801590126\n",
      "                r(min) =  20\n",
      "                r(max) =  17098240\n",
      "                r(sum) =  391758931.7000008\n",
      "\n",
      ". replace srf_area = r(mean) if srf_area ==.\n",
      "(5 real changes made)\n",
      "\n",
      ". \n"
     ]
    }
   ],
   "source": [
    "%%stata\n",
    "sum srf_area\n",
    "return list\n",
    "replace srf_area = r(mean) if srf_area ==."
   ]
  },
  {
   "cell_type": "markdown",
   "metadata": {},
   "source": [
    "## 2022.3.31 Functional Form"
   ]
  },
  {
   "cell_type": "code",
   "execution_count": 35,
   "metadata": {},
   "outputs": [
    {
     "name": "stdout",
     "output_type": "stream",
     "text": [
      "\n",
      ". clear all\n",
      "\n",
      ". use \"$datadir\\20220331-DataCleaningALL.dta\"\n",
      "\n",
      ". \n"
     ]
    }
   ],
   "source": [
    "%%stata\n",
    "clear all\n",
    "use \"$datadir\\20220331-DataCleaningALL.dta\""
   ]
  },
  {
   "cell_type": "markdown",
   "metadata": {},
   "source": [
    "### Step 1 Test For Multicollinearity "
   ]
  },
  {
   "cell_type": "code",
   "execution_count": 36,
   "metadata": {},
   "outputs": [
    {
     "name": "stdout",
     "output_type": "stream",
     "text": [
      "\n",
      ". reg pop_grwth frtl_rte lifeexp cvl_lib_ind co2_em srf_area gdpcap\n",
      "\n",
      "      Source |       SS           df       MS      Number of obs   =       531\n",
      "-------------+----------------------------------   F(6, 524)       =    101.22\n",
      "       Model |  526.315082         6  87.7191804   Prob > F        =    0.0000\n",
      "    Residual |  454.090704       524  .866585313   R-squared       =    0.5368\n",
      "-------------+----------------------------------   Adj R-squared   =    0.5315\n",
      "       Total |  980.405786       530  1.84982224   Root MSE        =    .93091\n",
      "\n",
      "------------------------------------------------------------------------------\n",
      "   pop_grwth | Coefficient  Std. err.      t    P>|t|     [95% conf. interval]\n",
      "-------------+----------------------------------------------------------------\n",
      "    frtl_rte |   .6929438    .045506    15.23   0.000     .6035471    .7823404\n",
      "     lifeexp |   .0321699   .0082955     3.88   0.000     .0158735    .0484664\n",
      " cvl_lib_ind |   .1454151   .0295861     4.91   0.000     .0872933     .203537\n",
      "      co2_em |   .0653188   .0082901     7.88   0.000     .0490328    .0816047\n",
      "    srf_area |  -1.82e-08   2.06e-08    -0.88   0.378    -5.86e-08    2.23e-08\n",
      "      gdpcap |   4.49e-06   4.08e-06     1.10   0.272    -3.53e-06    .0000125\n",
      "       _cons |  -3.714281   .6836693    -5.43   0.000    -5.057351   -2.371212\n",
      "------------------------------------------------------------------------------\n",
      "\n",
      ". // The p value for srf_area gdpcap is not statistically significant, So we ma\n",
      "> y have omitted variable bias (after adding year dummies, the results do not c\n",
      "> hange much).\n",
      ". estat vif\n",
      "\n",
      "    Variable |       VIF       1/VIF  \n",
      "-------------+----------------------\n",
      "     lifeexp |      4.22    0.236913\n",
      "    frtl_rte |      3.73    0.267877\n",
      "      gdpcap |      1.93    0.517957\n",
      "      co2_em |      1.68    0.594736\n",
      " cvl_lib_ind |      1.55    0.643569\n",
      "    srf_area |      1.04    0.965716\n",
      "-------------+----------------------\n",
      "    Mean VIF |      2.36\n",
      "\n",
      ". // The VIF for lifeexp is alerting, but I recommend to leave it to be\n",
      ". \n"
     ]
    }
   ],
   "source": [
    "%%stata\n",
    "reg pop_grwth frtl_rte lifeexp cvl_lib_ind co2_em srf_area gdpcap\n",
    "// The p value for srf_area gdpcap is not statistically significant, So we may have omitted variable bias (after adding year dummies, the results do not change much).\n",
    "estat vif\n",
    "// The VIF for lifeexp is alerting, but I recommend to leave it to be"
   ]
  },
  {
   "cell_type": "markdown",
   "metadata": {},
   "source": [
    "### Step 3 Functional Form"
   ]
  },
  {
   "cell_type": "code",
   "execution_count": 37,
   "metadata": {},
   "outputs": [
    {
     "name": "stdout",
     "output_type": "stream",
     "text": [
      "\n",
      ". foreach var of varlist srf_area gdpcap {\n",
      "  2.     gen lg_`var' = log(`var')\n",
      "  3. }\n",
      "\n",
      ". reg pop_grwth frtl_rte lifeexp cvl_lib_ind co2_em lg_srf_area lg_gdpcap i.yea\n",
      "> r\n",
      "\n",
      "      Source |       SS           df       MS      Number of obs   =       531\n",
      "-------------+----------------------------------   F(8, 522)       =     78.15\n",
      "       Model |  534.305732         8  66.7882165   Prob > F        =    0.0000\n",
      "    Residual |  446.100054       522  .854597804   R-squared       =    0.5450\n",
      "-------------+----------------------------------   Adj R-squared   =    0.5380\n",
      "       Total |  980.405786       530  1.84982224   Root MSE        =    .92444\n",
      "\n",
      "------------------------------------------------------------------------------\n",
      "   pop_grwth | Coefficient  Std. err.      t    P>|t|     [95% conf. interval]\n",
      "-------------+----------------------------------------------------------------\n",
      "    frtl_rte |   .7253023   .0460765    15.74   0.000     .6347842    .8158204\n",
      "     lifeexp |   .0364947   .0087685     4.16   0.000     .0192689    .0537205\n",
      " cvl_lib_ind |   .1274723   .0305175     4.18   0.000     .0675201    .1874246\n",
      "      co2_em |   .0715621   .0087804     8.15   0.000     .0543129    .0888113\n",
      " lg_srf_area |   .0088686   .0160461     0.55   0.581    -.0226543    .0403916\n",
      "   lg_gdpcap |  -.0156077   .0534067    -0.29   0.770    -.1205261    .0893107\n",
      "             |\n",
      "        year |\n",
      "       2000  |   .1401409   .1009752     1.39   0.166    -.0582267    .3385086\n",
      "       2010  |   .3407954   .1042336     3.27   0.001     .1360266    .5455643\n",
      "             |\n",
      "       _cons |   -4.19363   .7553543    -5.55   0.000    -5.677538   -2.709722\n",
      "------------------------------------------------------------------------------\n",
      "\n",
      ". // The p values for srf_area gdpcap are still not statistically significant\n",
      ". \n",
      ". gen lg_int_gdp_srf = lg_srf_area * lg_gdpcap\n",
      "\n",
      ". reg pop_grwth frtl_rte lifeexp cvl_lib_ind co2_em lg_srf_area lg_gdpcap lg_in\n",
      "> t_gdp_srf i.year\n",
      "\n",
      "      Source |       SS           df       MS      Number of obs   =       531\n",
      "-------------+----------------------------------   F(9, 521)       =     71.87\n",
      "       Model |  543.019329         9   60.335481   Prob > F        =    0.0000\n",
      "    Residual |  437.386458       521  .839513354   R-squared       =    0.5539\n",
      "-------------+----------------------------------   Adj R-squared   =    0.5462\n",
      "       Total |  980.405786       530  1.84982224   Root MSE        =    .91625\n",
      "\n",
      "------------------------------------------------------------------------------\n",
      "   pop_grwth | Coefficient  Std. err.      t    P>|t|     [95% conf. interval]\n",
      "-------------+----------------------------------------------------------------\n",
      "    frtl_rte |   .7285638   .0456792    15.95   0.000     .6388257    .8183019\n",
      "     lifeexp |   .0389686   .0087246     4.47   0.000     .0218289    .0561083\n",
      " cvl_lib_ind |   .1085898   .0308096     3.52   0.000     .0480635    .1691162\n",
      "      co2_em |   .0722629   .0087053     8.30   0.000     .0551612    .0893647\n",
      " lg_srf_area |   .3127867    .095666     3.27   0.001     .1248483    .5007251\n",
      "   lg_gdpcap |   .3790328   .1334423     2.84   0.005     .1168818    .6411839\n",
      "lg_int_gdp~f |  -.0355043   .0110204    -3.22   0.001    -.0571542   -.0138545\n",
      "             |\n",
      "        year |\n",
      "       2000  |   .1250917    .100189     1.25   0.212    -.0717324    .3219158\n",
      "       2010  |   .3345911   .1033275     3.24   0.001     .1316014    .5375809\n",
      "             |\n",
      "       _cons |  -7.719466   1.325974    -5.82   0.000    -10.32438   -5.114554\n",
      "------------------------------------------------------------------------------\n",
      "\n",
      ". // The final(maybe) functional form for simple regression\n",
      ". \n"
     ]
    }
   ],
   "source": [
    "%%stata\n",
    "foreach var of varlist srf_area gdpcap {\n",
    "    gen lg_`var' = log(`var')\n",
    "}\n",
    "reg pop_grwth frtl_rte lifeexp cvl_lib_ind co2_em lg_srf_area lg_gdpcap i.year\n",
    "// The p values for srf_area gdpcap are still not statistically significant\n",
    "\n",
    "gen lg_int_gdp_srf = lg_srf_area * lg_gdpcap\n",
    "reg pop_grwth frtl_rte lifeexp cvl_lib_ind co2_em lg_srf_area lg_gdpcap lg_int_gdp_srf i.year\n",
    "// The final(maybe) functional form for simple regression"
   ]
  }
 ],
 "metadata": {
  "interpreter": {
   "hash": "07efdcd4b820c98a756949507a4d29d7862823915ec7477944641bea022f4f62"
  },
  "kernelspec": {
   "display_name": "Python 3.8.12 ('base')",
   "language": "python",
   "name": "python3"
  },
  "language_info": {
   "codemirror_mode": {
    "name": "ipython",
    "version": 3
   },
   "file_extension": ".py",
   "mimetype": "text/x-python",
   "name": "python",
   "nbconvert_exporter": "python",
   "pygments_lexer": "ipython3",
   "version": "3.8.12"
  },
  "orig_nbformat": 4
 },
 "nbformat": 4,
 "nbformat_minor": 2
}
