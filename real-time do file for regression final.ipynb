{
 "cells": [
  {
   "cell_type": "markdown",
   "metadata": {},
   "source": [
    "# Real-Time Do File For Regression Final\n"
   ]
  },
  {
   "cell_type": "markdown",
   "metadata": {},
   "source": [
    "## Dependent and Independent Variable List\n",
    "### Dependent Variable List\n",
    "pop_grwth\n",
    "### Independent Variable List\n",
    "frtl_rte lefeexp cvl_lib_ind co2_em srf_area gdpcap"
   ]
  },
  {
   "cell_type": "code",
   "execution_count": 2,
   "metadata": {},
   "outputs": [
    {
     "name": "stdout",
     "output_type": "stream",
     "text": [
      "\n",
      "  ___  ____  ____  ____  ____ ®\n",
      " /__    /   ____/   /   ____/      17.0\n",
      "___/   /   /___/   /   /___/       MP—Parallel Edition\n",
      "\n",
      " Statistics and Data Science       Copyright 1985-2021 StataCorp LLC\n",
      "                                   StataCorp\n",
      "                                   4905 Lakeway Drive\n",
      "                                   College Station, Texas 77845 USA\n",
      "                                   800-STATA-PC        https://www.stata.com\n",
      "                                   979-696-4600        stata@stata.com\n",
      "\n",
      "Stata license: Single-user 8-core , expiring  1 Jan 2025\n",
      "Serial number: 501709301094\n",
      "  Licensed to: Yewei Sun\n",
      "               New York University\n",
      "\n",
      "Notes:\n",
      "      1. Unicode is supported; see help unicode_advice.\n",
      "      2. More than 2 billion observations are allowed; see help obs_advice.\n",
      "      3. Maximum number of variables is set to 5,000; see help set_maxvar.\n"
     ]
    }
   ],
   "source": [
    "import stata_setup\n",
    "stata_setup.config(\"D:/STATA17\", \"mp\")"
   ]
  },
  {
   "cell_type": "markdown",
   "metadata": {},
   "source": [
    "## 2022.03.24 Data Cleaning"
   ]
  },
  {
   "cell_type": "code",
   "execution_count": 3,
   "metadata": {},
   "outputs": [
    {
     "name": "stdout",
     "output_type": "stream",
     "text": [
      "\n",
      ". clear all\n",
      "\n",
      ". global datadir \"E:\\NYU Master\\Semester 2\\PADM-GP 2902 Regression and intro to\n",
      ">  economtrics\\Final Project\"\n",
      "\n",
      ". global logdir \"E:\\NYU Master\\Semester 2\\PADM-GP 2902 Regression and intro to \n",
      "> economtrics\\Final Project\"\n",
      "\n",
      ". cd \"$datadir\" \n",
      "E:\\NYU Master\\Semester 2\\PADM-GP 2902 Regression and intro to economtrics\\Final\n",
      ">  Project\n",
      "\n",
      ". use \"$datadir\\country dataset with 2010 version 13 _3_.dta\"\n",
      "\n",
      ". \n"
     ]
    }
   ],
   "source": [
    "%%stata\n",
    "clear all\n",
    "global datadir \"E:\\NYU Master\\Semester 2\\PADM-GP 2902 Regression and intro to economtrics\\Final Project\"\n",
    "global logdir \"E:\\NYU Master\\Semester 2\\PADM-GP 2902 Regression and intro to economtrics\\Final Project\"\n",
    "cd \"$datadir\" \n",
    "use \"$datadir\\country dataset with 2010 version 13 _3_.dta\""
   ]
  },
  {
   "cell_type": "code",
   "execution_count": 4,
   "metadata": {},
   "outputs": [
    {
     "name": "stdout",
     "output_type": "stream",
     "text": [
      "\n",
      ". codebook frtl_rte lifeexp\n",
      "\n",
      "-------------------------------------------------------------------------------\n",
      "frtl_rte                               Fertility rate, total (births per woman)\n",
      "-------------------------------------------------------------------------------\n",
      "\n",
      "                  Type: Numeric (float)\n",
      "\n",
      "                 Range: [.939,8.667]                  Units: .0001\n",
      "         Unique values: 461                       Missing .: 13/531\n",
      "\n",
      "                  Mean: 3.36512\n",
      "             Std. dev.:  1.7383\n",
      "\n",
      "           Percentiles:     10%       25%       50%       75%       90%\n",
      "                            1.5     1.902     2.813      4.72     6.071\n",
      "\n",
      "-------------------------------------------------------------------------------\n",
      "lifeexp                                                         Life expectancy\n",
      "-------------------------------------------------------------------------------\n",
      "\n",
      "                  Type: Numeric (float)\n",
      "\n",
      "                 Range: [32.611561,82.97805]          Units: 1.000e-06\n",
      "         Unique values: 517                       Missing .: 12/531\n",
      "\n",
      "                  Mean: 67.1537\n",
      "             Std. dev.: 10.1299\n",
      "\n",
      "           Percentiles:     10%       25%       50%       75%       90%\n",
      "                        50.6542   60.6043   70.0767   74.7413    78.146\n",
      "\n",
      ". // Overview of the Variables\n",
      ". \n"
     ]
    }
   ],
   "source": [
    "%%stata\n",
    "codebook frtl_rte lifeexp\n",
    "// Overview of the Variables"
   ]
  },
  {
   "cell_type": "code",
   "execution_count": 5,
   "metadata": {},
   "outputs": [
    {
     "name": "stdout",
     "output_type": "stream",
     "text": [
      "\n",
      ". sum frtl_rte\n",
      "\n",
      "    Variable |        Obs        Mean    Std. dev.       Min        Max\n",
      "-------------+---------------------------------------------------------\n",
      "    frtl_rte |        518    3.365119    1.738296       .939      8.667\n",
      "\n",
      ". return list\n",
      "\n",
      "scalars:\n",
      "                  r(N) =  518\n",
      "              r(sum_w) =  518\n",
      "               r(mean) =  3.36511892080307\n",
      "                r(Var) =  3.021673295391625\n",
      "                 r(sd) =  1.738296089678518\n",
      "                r(min) =  .9390000104904175\n",
      "                r(max) =  8.666999816894531\n",
      "                r(sum) =  1743.13160097599\n",
      "\n",
      ". replace frtl_rte = r(mean) if frtl_rte==.\n",
      "(13 real changes made)\n",
      "\n",
      ". \n"
     ]
    }
   ],
   "source": [
    "%%stata\n",
    "sum frtl_rte\n",
    "return list\n",
    "replace frtl_rte = r(mean) if frtl_rte==."
   ]
  },
  {
   "cell_type": "code",
   "execution_count": 6,
   "metadata": {},
   "outputs": [
    {
     "name": "stdout",
     "output_type": "stream",
     "text": [
      "\n",
      ". sum lifeexp\n",
      "\n",
      "    Variable |        Obs        Mean    Std. dev.       Min        Max\n",
      "-------------+---------------------------------------------------------\n",
      "     lifeexp |        519    67.15366    10.12991   32.61156   82.97805\n",
      "\n",
      ". return list\n",
      "\n",
      "scalars:\n",
      "                  r(N) =  519\n",
      "              r(sum_w) =  519\n",
      "               r(mean) =  67.15365899734644\n",
      "                r(Var) =  102.6149784431765\n",
      "                 r(sd) =  10.12990515469797\n",
      "                r(min) =  32.6115608215332\n",
      "                r(max) =  82.97805023193359\n",
      "                r(sum) =  34852.7490196228\n",
      "\n",
      ". replace lifeexp = r(mean) if lifeexp==.\n",
      "(12 real changes made)\n",
      "\n",
      ". \n"
     ]
    }
   ],
   "source": [
    "%%stata\n",
    "sum lifeexp\n",
    "return list\n",
    "replace lifeexp = r(mean) if lifeexp==."
   ]
  },
  {
   "cell_type": "markdown",
   "metadata": {},
   "source": [
    "## 2022.03.31 Merge the Data Cleaning of the Group"
   ]
  },
  {
   "cell_type": "code",
   "execution_count": 7,
   "metadata": {},
   "outputs": [
    {
     "name": "stdout",
     "output_type": "stream",
     "text": [
      "\n",
      ". sum gdpcap\n",
      "\n",
      "    Variable |        Obs        Mean    Std. dev.       Min        Max\n",
      "-------------+---------------------------------------------------------\n",
      "      gdpcap |        521    8722.309    13895.74   98.03187   102863.1\n",
      "\n",
      ". return list\n",
      "\n",
      "scalars:\n",
      "                  r(N) =  521\n",
      "              r(sum_w) =  521\n",
      "               r(mean) =  8722.309087229782\n",
      "                r(Var) =  193091685.6177301\n",
      "                 r(sd) =  13895.74343522973\n",
      "                r(min) =  98.03186798095703\n",
      "                r(max) =  102863.09375\n",
      "                r(sum) =  4544323.034446716\n",
      "\n",
      ". replace gdpcap = r(mean) if gdpcap ==.\n",
      "(10 real changes made)\n",
      "\n",
      ". \n"
     ]
    }
   ],
   "source": [
    "%%stata\n",
    "sum gdpcap\n",
    "return list\n",
    "replace gdpcap = r(mean) if gdpcap ==."
   ]
  },
  {
   "cell_type": "code",
   "execution_count": 8,
   "metadata": {},
   "outputs": [
    {
     "name": "stdout",
     "output_type": "stream",
     "text": [
      "\n",
      ". sum co2_em\n",
      "\n",
      "    Variable |        Obs        Mean    Std. dev.       Min        Max\n",
      "-------------+---------------------------------------------------------\n",
      "      co2_em |        505    4.605212    6.485877   .0181349   58.52217\n",
      "\n",
      ". return list\n",
      "\n",
      "scalars:\n",
      "                  r(N) =  505\n",
      "              r(sum_w) =  505\n",
      "               r(mean) =  4.605212292503012\n",
      "                r(Var) =  42.06659817517209\n",
      "                 r(sd) =  6.485876823928441\n",
      "                r(min) =  .0181349068880081\n",
      "                r(max) =  58.52217102050781\n",
      "                r(sum) =  2325.632207714021\n",
      "\n",
      ". replace co2_em = r(mean) if co2_em ==.\n",
      "(26 real changes made)\n",
      "\n",
      ". \n"
     ]
    }
   ],
   "source": [
    "%%stata\n",
    "sum co2_em\n",
    "return list\n",
    "replace co2_em = r(mean) if co2_em ==."
   ]
  },
  {
   "cell_type": "code",
   "execution_count": 10,
   "metadata": {},
   "outputs": [
    {
     "name": "stdout",
     "output_type": "stream",
     "text": [
      "\n",
      ". sum cvl_lib_ind\n",
      "\n",
      "    Variable |        Obs        Mean    Std. dev.       Min        Max\n",
      "-------------+---------------------------------------------------------\n",
      " cvl_lib_ind |        479     3.43215    1.788822          1          7\n",
      "\n",
      ". replace cvl_lib_ind = 3 if cvl_lib_ind ==.\n",
      "(52 real changes made)\n",
      "\n",
      ". \n"
     ]
    }
   ],
   "source": [
    "%%stata\n",
    "sum cvl_lib_ind\n",
    "replace cvl_lib_ind = 3 if cvl_lib_ind ==."
   ]
  },
  {
   "cell_type": "code",
   "execution_count": 11,
   "metadata": {},
   "outputs": [
    {
     "name": "stdout",
     "output_type": "stream",
     "text": [
      "\n",
      ". sum srf_area\n",
      "\n",
      "    Variable |        Obs        Mean    Std. dev.       Min        Max\n",
      "-------------+---------------------------------------------------------\n",
      "    srf_area |        526    744788.8     2007951         20   1.71e+07\n",
      "\n",
      ". return list\n",
      "\n",
      "scalars:\n",
      "                  r(N) =  526\n",
      "              r(sum_w) =  526\n",
      "               r(mean) =  744788.8435361232\n",
      "                r(Var) =  4031866421606.429\n",
      "                 r(sd) =  2007950.801590126\n",
      "                r(min) =  20\n",
      "                r(max) =  17098240\n",
      "                r(sum) =  391758931.7000008\n",
      "\n",
      ". replace srf_area = r(mean) if srf_area ==.\n",
      "(5 real changes made)\n",
      "\n",
      ". \n"
     ]
    }
   ],
   "source": [
    "%%stata\n",
    "sum srf_area\n",
    "return list\n",
    "replace srf_area = r(mean) if srf_area ==."
   ]
  },
  {
   "cell_type": "code",
   "execution_count": null,
   "metadata": {},
   "outputs": [],
   "source": []
  }
 ],
 "metadata": {
  "interpreter": {
   "hash": "07efdcd4b820c98a756949507a4d29d7862823915ec7477944641bea022f4f62"
  },
  "kernelspec": {
   "display_name": "Python 3.8.12 ('base')",
   "language": "python",
   "name": "python3"
  },
  "language_info": {
   "codemirror_mode": {
    "name": "ipython",
    "version": 3
   },
   "file_extension": ".py",
   "mimetype": "text/x-python",
   "name": "python",
   "nbconvert_exporter": "python",
   "pygments_lexer": "ipython3",
   "version": "3.8.12"
  },
  "orig_nbformat": 4
 },
 "nbformat": 4,
 "nbformat_minor": 2
}
