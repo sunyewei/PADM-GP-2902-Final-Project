{
 "cells": [
  {
   "cell_type": "markdown",
   "metadata": {},
   "source": [
    "# Real-Time Do File For Regression Final\n"
   ]
  },
  {
   "cell_type": "code",
   "execution_count": 24,
   "metadata": {},
   "outputs": [],
   "source": [
    "import stata_setup\n",
    "stata_setup.config(\"D:/STATA17\", \"mp\")"
   ]
  },
  {
   "cell_type": "markdown",
   "metadata": {},
   "source": [
    "## 2022.03.24 Data Cleaning"
   ]
  },
  {
   "cell_type": "code",
   "execution_count": null,
   "metadata": {},
   "outputs": [],
   "source": [
    "%%stata\n",
    "clear all\n",
    "global datadir \"E:\\NYU Master\\Semester 2\\PADM-GP 2902 Regression and intro to economtrics\\Final Project\"\n",
    "global logdir \"E:\\NYU Master\\Semester 2\\PADM-GP 2902 Regression and intro to economtrics\\Final Project\"\n",
    "cd \"$datadir\" \n",
    "use \"$datadir\\country dataset with 2010 version 13 _3_.dta\""
   ]
  },
  {
   "cell_type": "code",
   "execution_count": 25,
   "metadata": {},
   "outputs": [
    {
     "name": "stdout",
     "output_type": "stream",
     "text": [
      "\n",
      ". codebook frtl_rte lifeexp\n",
      "\n",
      "-------------------------------------------------------------------------------\n",
      "frtl_rte                               Fertility rate, total (births per woman)\n",
      "-------------------------------------------------------------------------------\n",
      "\n",
      "                  Type: Numeric (float)\n",
      "\n",
      "                 Range: [.939,8.667]                  Units: .0001\n",
      "         Unique values: 461                       Missing .: 13/531\n",
      "\n",
      "                  Mean: 3.36512\n",
      "             Std. dev.:  1.7383\n",
      "\n",
      "           Percentiles:     10%       25%       50%       75%       90%\n",
      "                            1.5     1.902     2.813      4.72     6.071\n",
      "\n",
      "-------------------------------------------------------------------------------\n",
      "lifeexp                                                         Life expectancy\n",
      "-------------------------------------------------------------------------------\n",
      "\n",
      "                  Type: Numeric (float)\n",
      "\n",
      "                 Range: [32.611561,82.97805]          Units: 1.000e-06\n",
      "         Unique values: 517                       Missing .: 12/531\n",
      "\n",
      "                  Mean: 67.1537\n",
      "             Std. dev.: 10.1299\n",
      "\n",
      "           Percentiles:     10%       25%       50%       75%       90%\n",
      "                        50.6542   60.6043   70.0767   74.7413    78.146\n",
      "\n",
      ". // Overview of the Variables\n",
      ". \n"
     ]
    }
   ],
   "source": [
    "%%stata\n",
    "codebook frtl_rte lifeexp\n",
    "// Overview of the Variables"
   ]
  },
  {
   "cell_type": "code",
   "execution_count": 31,
   "metadata": {},
   "outputs": [
    {
     "name": "stdout",
     "output_type": "stream",
     "text": [
      "\n",
      ". sum frtl_rte\n",
      "\n",
      "    Variable |        Obs        Mean    Std. dev.       Min        Max\n",
      "-------------+---------------------------------------------------------\n",
      "    frtl_rte |        531    3.365119    1.716845       .939      8.667\n",
      "\n",
      ". return list\n",
      "\n",
      "scalars:\n",
      "                  r(N) =  531\n",
      "              r(sum_w) =  531\n",
      "               r(mean) =  3.365118922262317\n",
      "                r(Var) =  2.947556780599\n",
      "                 r(sd) =  1.716845007739196\n",
      "                r(min) =  .9390000104904175\n",
      "                r(max) =  8.666999816894531\n",
      "                r(sum) =  1786.878147721291\n",
      "\n",
      ". replace frtl_rte = r(mean) if frtl_rte==.\n",
      "(0 real changes made)\n",
      "\n",
      ". \n"
     ]
    }
   ],
   "source": [
    "%%stata\n",
    "sum frtl_rte\n",
    "return list\n",
    "replace frtl_rte = r(mean) if frtl_rte==."
   ]
  },
  {
   "cell_type": "code",
   "execution_count": 32,
   "metadata": {},
   "outputs": [
    {
     "name": "stdout",
     "output_type": "stream",
     "text": [
      "\n",
      ". sum lifeexp\n",
      "\n",
      "    Variable |        Obs        Mean    Std. dev.       Min        Max\n",
      "-------------+---------------------------------------------------------\n",
      "     lifeexp |        519    67.15366    10.12991   32.61156   82.97805\n",
      "\n",
      ". return list\n",
      "\n",
      "scalars:\n",
      "                  r(N) =  519\n",
      "              r(sum_w) =  519\n",
      "               r(mean) =  67.15365899734644\n",
      "                r(Var) =  102.6149784431765\n",
      "                 r(sd) =  10.12990515469797\n",
      "                r(min) =  32.6115608215332\n",
      "                r(max) =  82.97805023193359\n",
      "                r(sum) =  34852.7490196228\n",
      "\n",
      ". replace lifeexp = r(mean) if lifeexp==.\n",
      "(12 real changes made)\n",
      "\n",
      ". \n"
     ]
    }
   ],
   "source": [
    "%%stata\n",
    "sum lifeexp\n",
    "return list\n",
    "replace lifeexp = r(mean) if lifeexp==."
   ]
  }
 ],
 "metadata": {
  "interpreter": {
   "hash": "07efdcd4b820c98a756949507a4d29d7862823915ec7477944641bea022f4f62"
  },
  "kernelspec": {
   "display_name": "Python 3.8.12 ('base')",
   "language": "python",
   "name": "python3"
  },
  "language_info": {
   "codemirror_mode": {
    "name": "ipython",
    "version": 3
   },
   "file_extension": ".py",
   "mimetype": "text/x-python",
   "name": "python",
   "nbconvert_exporter": "python",
   "pygments_lexer": "ipython3",
   "version": "3.8.12"
  },
  "orig_nbformat": 4
 },
 "nbformat": 4,
 "nbformat_minor": 2
}
